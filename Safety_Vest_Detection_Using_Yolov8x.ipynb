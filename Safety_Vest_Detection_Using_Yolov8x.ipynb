{
  "nbformat": 4,
  "nbformat_minor": 0,
  "metadata": {
    "colab": {
      "provenance": [],
      "toc_visible": true,
      "authorship_tag": "ABX9TyP2DhUcCevrp2VJVKetmsKe",
      "include_colab_link": true
    },
    "kernelspec": {
      "name": "python3",
      "display_name": "Python 3"
    },
    "language_info": {
      "name": "python"
    }
  },
  "cells": [
    {
      "cell_type": "markdown",
      "metadata": {
        "id": "view-in-github",
        "colab_type": "text"
      },
      "source": [
        "<a href=\"https://colab.research.google.com/github/MinoDinasaur/Safety-Vest-Detection-Using-Yolov8x/blob/main/Safety_Vest_Detection_Using_Yolov8x.ipynb\" target=\"_parent\"><img src=\"https://colab.research.google.com/assets/colab-badge.svg\" alt=\"Open In Colab\"/></a>"
      ]
    },
    {
      "cell_type": "code",
      "execution_count": null,
      "metadata": {
        "id": "m_9nD5gm9kDu"
      },
      "outputs": [],
      "source": [
        "!pip install ultralytics"
      ]
    },
    {
      "cell_type": "markdown",
      "source": [
        "# KẾT NỐI GG DRIVE"
      ],
      "metadata": {
        "id": "fXZTsKJ6-Xg8"
      }
    },
    {
      "cell_type": "code",
      "source": [
        "from google.colab import drive\n",
        "drive.mount('/content/drive')"
      ],
      "metadata": {
        "id": "EOMLSfpI9vHy"
      },
      "execution_count": null,
      "outputs": []
    },
    {
      "cell_type": "markdown",
      "source": [
        "# TRAINING MODEL"
      ],
      "metadata": {
        "id": "fdHEKuJm-i2q"
      }
    },
    {
      "cell_type": "markdown",
      "source": [
        "GIẢI NÉN FILE ZIP"
      ],
      "metadata": {
        "id": "vmQd1fa4-oD_"
      }
    },
    {
      "cell_type": "code",
      "source": [
        "%cd /content/drive/MyDrive/Dataset\n",
        "!unzip /content/drive/MyDrive/Dataset/Safety_vest_Detection.v1i.yolov8.zip"
      ],
      "metadata": {
        "id": "QOULJBRO9xbA"
      },
      "execution_count": null,
      "outputs": []
    },
    {
      "cell_type": "code",
      "source": [
        "!pip install roboflow\n",
        "\n",
        "from roboflow import Roboflow\n",
        "rf = Roboflow(api_key=\"Eb6f2KeRexcD4ywuU5Hs\")\n",
        "project = rf.workspace(\"ai-project-bdxdz\").project(\"safety-vest-detection-eyru5\")\n",
        "dataset = project.version(1).download(\"yolov8\")"
      ],
      "metadata": {
        "id": "Elp8ehyp92uv"
      },
      "execution_count": null,
      "outputs": []
    },
    {
      "cell_type": "code",
      "source": [
        "TẠO TRAINING YAML FILE"
      ],
      "metadata": {
        "id": "ZUlhftqN-tI_"
      },
      "execution_count": null,
      "outputs": []
    },
    {
      "cell_type": "code",
      "source": [
        "%cd /content/drive/MyDrive\n",
        "!echo 'train: /content/drive/MyDrive/Safety-vest-Detection-1/train/images' >> Dataset/mydataset.yaml\n",
        "!echo 'val: /content/drive/MyDrive/Safety-vest-Detection-1/valid/images' >> Dataset/mydataset.yaml\n",
        "!echo 'test: /content/drive/MyDrive/Safety-vest-Detection-1/test/images' >> Dataset/mydataset.yaml\n",
        "!echo 'nc: 2' >> Dataset/mydataset.yaml\n",
        "!echo \"names: ['0','1']\" >> Dataset/mydataset.yaml"
      ],
      "metadata": {
        "id": "d9d0itmV94dq"
      },
      "execution_count": null,
      "outputs": []
    },
    {
      "cell_type": "markdown",
      "source": [
        "TRAIN VỚI PYTHON API"
      ],
      "metadata": {
        "id": "xJs2lXCF-1IK"
      }
    },
    {
      "cell_type": "code",
      "source": [
        "from ultralytics import YOLO\n",
        "\n",
        "model = YOLO(\"yolov8s.pt\")\n",
        "\n",
        "results = model.train(data=\"/content/drive/MyDrive/Dataset/mydataset.yaml\",epochs=100, val = True)"
      ],
      "metadata": {
        "id": "nngv3yoB99dY"
      },
      "execution_count": null,
      "outputs": []
    },
    {
      "cell_type": "code",
      "source": [
        "from ultralytics import YOLO\n",
        "model = YOLO(\"/content/drive/MyDrive/Dataset/runs - v8s - 81/detect/train/weights/last.pt\")\n",
        "model.train(resume = True)"
      ],
      "metadata": {
        "id": "R50v14sg9-fm"
      },
      "execution_count": null,
      "outputs": []
    },
    {
      "cell_type": "code",
      "source": [
        "from ultralytics import YOLO\n",
        "\n",
        "# Load a model\n",
        "\n",
        "model = YOLO('/content/drive/MyDrive/Dataset/runs - v8x/detect/train/weights/best.pt')  # load a custom model\n",
        "\n",
        "# Validate the model\n",
        "metrics = model.val()  # no arguments needed, dataset and settings remembered\n",
        "metrics.box.map    # map50-95\n",
        "metrics.box.map50  # map50\n",
        "metrics.box.map75  # map75\n",
        "metrics.box.maps   # a list contains map50-95 of each category"
      ],
      "metadata": {
        "id": "4iRasN1o-A7T"
      },
      "execution_count": null,
      "outputs": []
    },
    {
      "cell_type": "markdown",
      "source": [
        "# PREDICTION"
      ],
      "metadata": {
        "id": "oq6sIxF9-_2b"
      }
    },
    {
      "cell_type": "markdown",
      "source": [
        "PREDICT VỚI LAST.PT"
      ],
      "metadata": {
        "id": "iTvJWcP__DkS"
      }
    },
    {
      "cell_type": "code",
      "source": [
        "!yolo task = detect mode = val model='/content/drive/MyDrive/Dataset/checkpointv8x_81/weights/best.pt' data='/content/drive/MyDrive/Dataset/mydataset.yaml' split=test"
      ],
      "metadata": {
        "id": "5zHyuCSL-FIG"
      },
      "execution_count": null,
      "outputs": []
    },
    {
      "cell_type": "markdown",
      "source": [
        "PREDICT VỚI BEST.PT"
      ],
      "metadata": {
        "id": "7QSmYWvw_Hya"
      }
    },
    {
      "cell_type": "code",
      "source": [
        "!yolo task=detect mode=predict model=\"/content/drive/MyDrive/Dataset/runs - v8x/detect/train/weights/last.pt\" source=\"/content/drive/MyDrive/Dataset/test/images/\""
      ],
      "metadata": {
        "id": "nX-BS37P-Hhe"
      },
      "execution_count": null,
      "outputs": []
    },
    {
      "cell_type": "code",
      "source": [
        "!yolo task=detect mode=predict model=\"/content/drive/MyDrive/Dataset/checkpointv8x_81/weights/best.pt\" source=\"/content/drive/MyDrive/Safety-vest-Detection-8/test/images\""
      ],
      "metadata": {
        "id": "Zpc5EAsh-LUT"
      },
      "execution_count": null,
      "outputs": []
    },
    {
      "cell_type": "markdown",
      "source": [
        "PLOT RESULT TRÊN CÁC ẢNH ĐƯỢC CUNG CẤP"
      ],
      "metadata": {
        "id": "9SEBhPkP_NTu"
      }
    },
    {
      "cell_type": "code",
      "source": [
        "from PIL import Image\n",
        "from ultralytics import YOLO\n",
        "\n",
        "# Load a pretrained YOLOv8n model\n",
        "model = YOLO('/content/drive/MyDrive/Dataset/checkpointv8x_81/weights/best.pt')\n",
        "\n",
        "# Run inference on 'bus.jpg'\n",
        "results = model('/content/drive/MyDrive/Dataset/youtube-58.jpg')  # results list\n",
        "\n",
        "# Show the results\n",
        "for r in results:\n",
        "    im_array = r.plot()  # plot a BGR numpy array of predictions\n",
        "    im = Image.fromarray(im_array[..., ::-1])  # RGB PIL image\n",
        "    im.show()  # show image\n",
        "    im.save('/content/drive/MyDrive/Dataset/youtube-58.jpg')  # save image"
      ],
      "metadata": {
        "id": "cIud8DyK-OzU"
      },
      "execution_count": null,
      "outputs": []
    }
  ]
}